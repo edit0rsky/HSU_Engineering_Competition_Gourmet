{
 "cells": [
  {
   "cell_type": "code",
   "execution_count": 2,
   "id": "3effc3b3",
   "metadata": {},
   "outputs": [
    {
     "name": "stdout",
     "output_type": "stream",
     "text": [
      "=== User 기준 ===\n",
      "5개 미만: 0개 (0.00%)\n",
      "5개 이상: 47398개 (100.00%)\n",
      "\n",
      "=== Business 기준 ===\n",
      "5개 미만: 0개 (0.00%)\n",
      "5개 이상: 13405개 (100.00%)\n"
     ]
    }
   ],
   "source": [
    "import pandas as pd\n",
    "\n",
    "# JSON Lines 형식으로 불러오기\n",
    "df = pd.read_json(\"../output/dataset_pa.json\", lines=True)\n",
    "\n",
    "# user_id 기준 리뷰 개수\n",
    "user_counts = df['user_id'].value_counts()\n",
    "user_less_than_5 = (user_counts < 5).sum()\n",
    "user_five_or_more = (user_counts >= 5).sum()\n",
    "user_less_than_5_ratio = user_less_than_5 / len(user_counts)\n",
    "user_five_or_more_ratio = user_five_or_more / len(user_counts)\n",
    "\n",
    "# business_id 기준 리뷰 개수\n",
    "business_counts = df['business_id'].value_counts()\n",
    "business_less_than_5 = (business_counts < 5).sum()\n",
    "business_five_or_more = (business_counts >= 5).sum()\n",
    "business_less_than_5_ratio = business_less_than_5 / len(business_counts)\n",
    "business_five_or_more_ratio = business_five_or_more / len(business_counts)\n",
    "\n",
    "# 결과 출력\n",
    "print(\"=== User 기준 ===\")\n",
    "print(f\"5개 미만: {user_less_than_5}개 ({user_less_than_5_ratio:.2%})\")\n",
    "print(f\"5개 이상: {user_five_or_more}개 ({user_five_or_more_ratio:.2%})\")\n",
    "\n",
    "print(\"\\n=== Business 기준 ===\")\n",
    "print(f\"5개 미만: {business_less_than_5}개 ({business_less_than_5_ratio:.2%})\")\n",
    "print(f\"5개 이상: {business_five_or_more}개 ({business_five_or_more_ratio:.2%})\")"
   ]
  },
  {
   "cell_type": "code",
   "execution_count": 1,
   "id": "6219b72a",
   "metadata": {},
   "outputs": [
    {
     "name": "stdout",
     "output_type": "stream",
     "text": [
      "=== User 기준 ===\n",
      "5개 미만: 0개 (0.00%)\n",
      "5개 이상: 23621개 (100.00%)\n",
      "\n",
      "=== Business 기준 ===\n",
      "5개 미만: 0개 (0.00%)\n",
      "5개 이상: 3897개 (100.00%)\n"
     ]
    }
   ],
   "source": [
    "import pandas as pd\n",
    "\n",
    "# JSON Lines 형식으로 불러오기\n",
    "df = pd.read_json(\"../output/dataset_la.json\", lines=True)\n",
    "\n",
    "# user_id 기준 리뷰 개수\n",
    "user_counts = df['user_id'].value_counts()\n",
    "user_less_than_5 = (user_counts < 5).sum()\n",
    "user_five_or_more = (user_counts >= 5).sum()\n",
    "user_less_than_5_ratio = user_less_than_5 / len(user_counts)\n",
    "user_five_or_more_ratio = user_five_or_more / len(user_counts)\n",
    "\n",
    "# business_id 기준 리뷰 개수\n",
    "business_counts = df['business_id'].value_counts()\n",
    "business_less_than_5 = (business_counts < 5).sum()\n",
    "business_five_or_more = (business_counts >= 5).sum()\n",
    "business_less_than_5_ratio = business_less_than_5 / len(business_counts)\n",
    "business_five_or_more_ratio = business_five_or_more / len(business_counts)\n",
    "\n",
    "# 결과 출력\n",
    "print(\"=== User 기준 ===\")\n",
    "print(f\"5개 미만: {user_less_than_5}개 ({user_less_than_5_ratio:.2%})\")\n",
    "print(f\"5개 이상: {user_five_or_more}개 ({user_five_or_more_ratio:.2%})\")\n",
    "\n",
    "print(\"\\n=== Business 기준 ===\")\n",
    "print(f\"5개 미만: {business_less_than_5}개 ({business_less_than_5_ratio:.2%})\")\n",
    "print(f\"5개 이상: {business_five_or_more}개 ({business_five_or_more_ratio:.2%})\")"
   ]
  },
  {
   "cell_type": "code",
   "execution_count": 2,
   "id": "8405afff",
   "metadata": {},
   "outputs": [
    {
     "name": "stdout",
     "output_type": "stream",
     "text": [
      "=== User 기준 ===\n",
      "5개 미만: 0개 (0.00%)\n",
      "5개 이상: 33779개 (100.00%)\n",
      "\n",
      "=== Business 기준 ===\n",
      "5개 미만: 0개 (0.00%)\n",
      "5개 이상: 9422개 (100.00%)\n"
     ]
    }
   ],
   "source": [
    "import pandas as pd\n",
    "\n",
    "# JSON Lines 형식으로 불러오기\n",
    "df = pd.read_json(\"../output/dataset_fl.json\", lines=True)\n",
    "\n",
    "# user_id 기준 리뷰 개수\n",
    "user_counts = df['user_id'].value_counts()\n",
    "user_less_than_5 = (user_counts < 5).sum()\n",
    "user_five_or_more = (user_counts >= 5).sum()\n",
    "user_less_than_5_ratio = user_less_than_5 / len(user_counts)\n",
    "user_five_or_more_ratio = user_five_or_more / len(user_counts)\n",
    "\n",
    "# business_id 기준 리뷰 개수\n",
    "business_counts = df['business_id'].value_counts()\n",
    "business_less_than_5 = (business_counts < 5).sum()\n",
    "business_five_or_more = (business_counts >= 5).sum()\n",
    "business_less_than_5_ratio = business_less_than_5 / len(business_counts)\n",
    "business_five_or_more_ratio = business_five_or_more / len(business_counts)\n",
    "\n",
    "# 결과 출력\n",
    "print(\"=== User 기준 ===\")\n",
    "print(f\"5개 미만: {user_less_than_5}개 ({user_less_than_5_ratio:.2%})\")\n",
    "print(f\"5개 이상: {user_five_or_more}개 ({user_five_or_more_ratio:.2%})\")\n",
    "\n",
    "print(\"\\n=== Business 기준 ===\")\n",
    "print(f\"5개 미만: {business_less_than_5}개 ({business_less_than_5_ratio:.2%})\")\n",
    "print(f\"5개 이상: {business_five_or_more}개 ({business_five_or_more_ratio:.2%})\")"
   ]
  },
  {
   "cell_type": "code",
   "execution_count": null,
   "id": "b759f589",
   "metadata": {},
   "outputs": [],
   "source": []
  }
 ],
 "metadata": {
  "kernelspec": {
   "display_name": "25bigdata",
   "language": "python",
   "name": "python3"
  },
  "language_info": {
   "codemirror_mode": {
    "name": "ipython",
    "version": 3
   },
   "file_extension": ".py",
   "mimetype": "text/x-python",
   "name": "python",
   "nbconvert_exporter": "python",
   "pygments_lexer": "ipython3",
   "version": "3.10.13"
  }
 },
 "nbformat": 4,
 "nbformat_minor": 5
}
