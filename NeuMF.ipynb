{
  "cells": [
    {
      "cell_type": "markdown",
      "metadata": {
        "id": "Q8st3RZCbKKv"
      },
      "source": [
        "NeuMF모델"
      ]
    },
    {
      "cell_type": "code",
      "execution_count": null,
      "metadata": {
        "colab": {
          "base_uri": "https://localhost:8080/"
        },
        "id": "6M33qRRqTOBH",
        "outputId": "012e9c2f-e1ca-4cb3-a07a-31184784b5ba"
      },
      "outputs": [
        {
          "name": "stderr",
          "output_type": "stream",
          "text": []
        },
        {
          "name": "stdout",
          "output_type": "stream",
          "text": [
            "\n",
            "Epoch 1 | Train Loss: 1.8998 | Val MSE: 1.3007, RMSE: 1.1405, MAE: 0.9114, MAPE: 37.19%\n",
            "  --> 개선됨. 모델 저장됨 (RMSE: 1.1405)\n"
          ]
        },
        {
          "name": "stderr",
          "output_type": "stream",
          "text": []
        },
        {
          "name": "stdout",
          "output_type": "stream",
          "text": [
            "\n",
            "Epoch 2 | Train Loss: 1.2091 | Val MSE: 1.2162, RMSE: 1.1028, MAE: 0.8775, MAPE: 35.75%\n",
            "  --> 개선됨. 모델 저장됨 (RMSE: 1.1028)\n"
          ]
        },
        {
          "name": "stderr",
          "output_type": "stream",
          "text": []
        },
        {
          "name": "stdout",
          "output_type": "stream",
          "text": [
            "\n",
            "Epoch 3 | Train Loss: 1.1096 | Val MSE: 1.1880, RMSE: 1.0900, MAE: 0.8565, MAPE: 35.22%\n",
            "  --> 개선됨. 모델 저장됨 (RMSE: 1.0900)\n"
          ]
        },
        {
          "name": "stderr",
          "output_type": "stream",
          "text": []
        },
        {
          "name": "stdout",
          "output_type": "stream",
          "text": [
            "\n",
            "Epoch 4 | Train Loss: 1.0279 | Val MSE: 1.1773, RMSE: 1.0850, MAE: 0.8574, MAPE: 34.45%\n",
            "  --> 개선됨. 모델 저장됨 (RMSE: 1.0850)\n"
          ]
        },
        {
          "name": "stderr",
          "output_type": "stream",
          "text": []
        },
        {
          "name": "stdout",
          "output_type": "stream",
          "text": [
            "\n",
            "Epoch 5 | Train Loss: 0.9538 | Val MSE: 1.1808, RMSE: 1.0866, MAE: 0.8522, MAPE: 34.39%\n",
            "  --> 개선 없음. (1/5)\n"
          ]
        },
        {
          "name": "stderr",
          "output_type": "stream",
          "text": []
        },
        {
          "name": "stdout",
          "output_type": "stream",
          "text": [
            "\n",
            "Epoch 6 | Train Loss: 0.8856 | Val MSE: 1.1987, RMSE: 1.0949, MAE: 0.8580, MAPE: 34.32%\n",
            "  --> 개선 없음. (2/5)\n"
          ]
        },
        {
          "name": "stderr",
          "output_type": "stream",
          "text": []
        },
        {
          "name": "stdout",
          "output_type": "stream",
          "text": [
            "\n",
            "Epoch 7 | Train Loss: 0.8218 | Val MSE: 1.2195, RMSE: 1.1043, MAE: 0.8686, MAPE: 34.16%\n",
            "  --> 개선 없음. (3/5)\n"
          ]
        },
        {
          "name": "stderr",
          "output_type": "stream",
          "text": []
        },
        {
          "name": "stdout",
          "output_type": "stream",
          "text": [
            "\n",
            "Epoch 8 | Train Loss: 0.7617 | Val MSE: 1.2514, RMSE: 1.1187, MAE: 0.8779, MAPE: 34.32%\n",
            "  --> 개선 없음. (4/5)\n"
          ]
        },
        {
          "name": "stderr",
          "output_type": "stream",
          "text": []
        },
        {
          "name": "stdout",
          "output_type": "stream",
          "text": [
            "\n",
            "Epoch 9 | Train Loss: 0.7052 | Val MSE: 1.2811, RMSE: 1.1319, MAE: 0.8882, MAPE: 34.46%\n",
            "  --> 개선 없음. (5/5)\n",
            "조기 종료 발생.\n",
            "최적 모델 로드 완료: best_neumf_model.pt\n"
          ]
        },
        {
          "name": "stderr",
          "output_type": "stream",
          "text": [
            "                                                           "
          ]
        },
        {
          "name": "stdout",
          "output_type": "stream",
          "text": [
            "\n",
            "✅ [NeuMF] 최종 테스트 평가 지표:\n",
            "   - MSE  : 1.1629\n",
            "   - RMSE : 1.0784\n",
            "   - MAE  : 0.8518\n",
            "   - MAPE : 34.09%\n"
          ]
        },
        {
          "name": "stderr",
          "output_type": "stream",
          "text": [
            "\r"
          ]
        }
      ],
      "source": [
        "import pandas as pd\n",
        "import numpy as np\n",
        "from sklearn.model_selection import train_test_split\n",
        "from sklearn.preprocessing import LabelEncoder\n",
        "from sklearn.metrics import mean_squared_error, mean_absolute_error\n",
        "from tqdm import tqdm\n",
        "import torch\n",
        "import torch.nn as nn\n",
        "import torch.optim as optim\n",
        "from torch.utils.data import Dataset, DataLoader\n",
        "import os\n",
        "\n",
        "# -------------------- 데이터 로딩 및 전처리 --------------------\n",
        "df = pd.read_json('review_business_5up_5aspect_3sentiment_vectorized_clean.json', lines=True)\n",
        "df_processed = df[['user_id', 'business_id', 'stars']].copy()\n",
        "\n",
        "user_encoder = LabelEncoder()\n",
        "business_encoder = LabelEncoder()\n",
        "df_processed['user_encoded'] = user_encoder.fit_transform(df_processed['user_id'])\n",
        "df_processed['business_encoded'] = business_encoder.fit_transform(df_processed['business_id'])\n",
        "\n",
        "num_users = len(user_encoder.classes_)\n",
        "num_businesses = len(business_encoder.classes_)\n",
        "\n",
        "train_val_df, test_df = train_test_split(df_processed, test_size=0.2, random_state=42)\n",
        "val_size_ratio = 1 / 8\n",
        "train_df, val_df = train_test_split(train_val_df, test_size=val_size_ratio, random_state=42)\n",
        "\n",
        "# -------------------- Dataset 정의 --------------------\n",
        "class NeuMFDataset(Dataset):\n",
        "    def __init__(self, df):\n",
        "        self.user_ids = torch.tensor(df['user_encoded'].values, dtype=torch.long)\n",
        "        self.item_ids = torch.tensor(df['business_encoded'].values, dtype=torch.long)\n",
        "        self.ratings = torch.tensor(df['stars'].values, dtype=torch.float)\n",
        "\n",
        "    def __len__(self):\n",
        "        return len(self.ratings)\n",
        "\n",
        "    def __getitem__(self, idx):\n",
        "        return self.user_ids[idx], self.item_ids[idx], self.ratings[idx]\n",
        "\n",
        "train_dataset = NeuMFDataset(train_df)\n",
        "val_dataset = NeuMFDataset(val_df)\n",
        "test_dataset = NeuMFDataset(test_df)\n",
        "\n",
        "batch_size = 128\n",
        "train_loader = DataLoader(train_dataset, batch_size=batch_size, shuffle=True)\n",
        "val_loader = DataLoader(val_dataset, batch_size=batch_size, shuffle=False)\n",
        "test_loader = DataLoader(test_dataset, batch_size=batch_size, shuffle=False)\n",
        "\n",
        "# -------------------- 모델 정의 --------------------\n",
        "class NeuMF(nn.Module):\n",
        "    def __init__(self, num_users, num_items, mf_dim=16, mlp_dims=[64, 32]):\n",
        "        super(NeuMF, self).__init__()\n",
        "        self.user_embedding_gmf = nn.Embedding(num_users, mf_dim)\n",
        "        self.item_embedding_gmf = nn.Embedding(num_items, mf_dim)\n",
        "\n",
        "        self.user_embedding_mlp = nn.Embedding(num_users, mlp_dims[0] // 2)\n",
        "        self.item_embedding_mlp = nn.Embedding(num_items, mlp_dims[0] // 2)\n",
        "\n",
        "        mlp_layers = []\n",
        "        input_dim = mlp_dims[0]\n",
        "        for dim in mlp_dims[1:]:\n",
        "            mlp_layers.append(nn.Linear(input_dim, dim))\n",
        "            mlp_layers.append(nn.ReLU())\n",
        "            input_dim = dim\n",
        "        self.mlp = nn.Sequential(*mlp_layers)\n",
        "\n",
        "        self.final_layer = nn.Linear(mf_dim + mlp_dims[-1], 1)\n",
        "\n",
        "    def forward(self, user_ids, item_ids):\n",
        "        gmf_user = self.user_embedding_gmf(user_ids)\n",
        "        gmf_item = self.item_embedding_gmf(item_ids)\n",
        "        gmf_output = gmf_user * gmf_item\n",
        "\n",
        "        mlp_user = self.user_embedding_mlp(user_ids)\n",
        "        mlp_item = self.item_embedding_mlp(item_ids)\n",
        "        mlp_input = torch.cat((mlp_user, mlp_item), dim=1)\n",
        "        mlp_output = self.mlp(mlp_input)\n",
        "\n",
        "        concat = torch.cat((gmf_output, mlp_output), dim=1)\n",
        "        prediction = self.final_layer(concat)\n",
        "        return prediction.view(-1)\n",
        "\n",
        "# -------------------- 평가 지표 --------------------\n",
        "def mean_absolute_percentage_error(y_true, y_pred):\n",
        "    y_true = np.array(y_true)\n",
        "    y_pred = np.array(y_pred)\n",
        "    epsilon = 1e-10\n",
        "    return np.mean(np.abs((y_true - y_pred) / (y_true + epsilon))) * 100\n",
        "\n",
        "# -------------------- 학습 --------------------\n",
        "embedding_dim = 16\n",
        "mlp_dims = [64, 32]\n",
        "learning_rate = 0.001\n",
        "epochs = 50\n",
        "patience = 5\n",
        "min_delta = 0.0001\n",
        "\n",
        "model = NeuMF(num_users, num_businesses, embedding_dim, mlp_dims)\n",
        "criterion = nn.MSELoss()\n",
        "optimizer = optim.Adam(model.parameters(), lr=learning_rate)\n",
        "model_path = 'best_neumf_model.pt'\n",
        "\n",
        "best_val_rmse = float('inf')\n",
        "epochs_no_improve = 0\n",
        "\n",
        "for epoch in range(epochs):\n",
        "    model.train()\n",
        "    total_train_loss = 0\n",
        "    train_bar = tqdm(train_loader, desc=f\"[Epoch {epoch+1}] Training\", leave=False)\n",
        "    for user_ids, item_ids, ratings in train_bar:\n",
        "        optimizer.zero_grad()\n",
        "        predictions = model(user_ids, item_ids)\n",
        "        loss = criterion(predictions, ratings)\n",
        "        loss.backward()\n",
        "        optimizer.step()\n",
        "        total_train_loss += loss.item()\n",
        "        train_bar.set_postfix(loss=loss.item())\n",
        "\n",
        "    model.eval()\n",
        "    val_predictions, val_true = [], []\n",
        "    val_bar = tqdm(val_loader, desc=f\"[Epoch {epoch+1}] Validating\", leave=False)\n",
        "    with torch.no_grad():\n",
        "        for user_ids, item_ids, ratings in val_bar:\n",
        "            preds = model(user_ids, item_ids)\n",
        "            val_predictions.extend(preds.tolist())\n",
        "            val_true.extend(ratings.tolist())\n",
        "\n",
        "    val_mse = mean_squared_error(val_true, val_predictions)\n",
        "    val_rmse = np.sqrt(val_mse)\n",
        "    val_mae = mean_absolute_error(val_true, val_predictions)\n",
        "    val_mape = mean_absolute_percentage_error(val_true, val_predictions)\n",
        "\n",
        "    print(f\"\\nEpoch {epoch+1} | Train Loss: {total_train_loss/len(train_loader):.4f} | \"\n",
        "          f\"Val MSE: {val_mse:.4f}, RMSE: {val_rmse:.4f}, MAE: {val_mae:.4f}, MAPE: {val_mape:.2f}%\")\n",
        "\n",
        "    if val_rmse < best_val_rmse - min_delta:\n",
        "        best_val_rmse = val_rmse\n",
        "        epochs_no_improve = 0\n",
        "        torch.save(model.state_dict(), model_path)\n",
        "        print(f\"  --> 개선됨. 모델 저장됨 (RMSE: {best_val_rmse:.4f})\")\n",
        "    else:\n",
        "        epochs_no_improve += 1\n",
        "        print(f\"  --> 개선 없음. ({epochs_no_improve}/{patience})\")\n",
        "        if epochs_no_improve == patience:\n",
        "            print(\"조기 종료 발생.\")\n",
        "            break\n",
        "\n",
        "# -------------------- 테스트 --------------------\n",
        "if os.path.exists(model_path):\n",
        "    model.load_state_dict(torch.load(model_path))\n",
        "    print(f\"최적 모델 로드 완료: {model_path}\")\n",
        "\n",
        "model.eval()\n",
        "test_preds, test_true = [], []\n",
        "test_bar = tqdm(test_loader, desc=\"Testing\", leave=False)\n",
        "with torch.no_grad():\n",
        "    for user_ids, item_ids, ratings in test_bar:\n",
        "        preds = model(user_ids, item_ids)\n",
        "        test_preds.extend(preds.tolist())\n",
        "        test_true.extend(ratings.tolist())\n",
        "\n",
        "test_mse = mean_squared_error(test_true, test_preds)\n",
        "test_rmse = np.sqrt(test_mse)\n",
        "test_mae = mean_absolute_error(test_true, test_preds)\n",
        "test_mape = mean_absolute_percentage_error(test_true, test_preds)\n",
        "\n",
        "print(f\"\\n✅ [NeuMF] 최종 테스트 평가 지표:\")\n",
        "print(f\"   - MSE  : {test_mse:.4f}\")\n",
        "print(f\"   - RMSE : {test_rmse:.4f}\")\n",
        "print(f\"   - MAE  : {test_mae:.4f}\")\n",
        "print(f\"   - MAPE : {test_mape:.2f}%\")\n"
      ]
    }
  ],
  "metadata": {
    "accelerator": "GPU",
    "colab": {
      "gpuType": "T4",
      "provenance": []
    },
    "kernelspec": {
      "display_name": "Python 3",
      "name": "python3"
    },
    "language_info": {
      "name": "python"
    }
  },
  "nbformat": 4,
  "nbformat_minor": 0
}
