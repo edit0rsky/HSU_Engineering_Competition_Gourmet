{
 "cells": [
  {
   "cell_type": "code",
   "execution_count": 14,
   "id": "26cfe6fd",
   "metadata": {},
   "outputs": [],
   "source": [
    "import pandas as pd"
   ]
  },
  {
   "cell_type": "code",
   "execution_count": 15,
   "id": "98f5e57e",
   "metadata": {},
   "outputs": [],
   "source": [
    "json_reader = pd.read_json(\n",
    "    \"../Dataset/states/dataset_fl.json\",\n",
    "    lines=True,\n",
    "    chunksize=10000,\n",
    ")"
   ]
  },
  {
   "cell_type": "code",
   "execution_count": 16,
   "id": "05afab65",
   "metadata": {},
   "outputs": [],
   "source": [
    "df_test = next(json_reader)"
   ]
  },
  {
   "cell_type": "code",
   "execution_count": 17,
   "id": "4c153149",
   "metadata": {},
   "outputs": [
    {
     "name": "stdout",
     "output_type": "stream",
     "text": [
      "<class 'pandas.core.frame.DataFrame'>\n",
      "RangeIndex: 10000 entries, 0 to 9999\n",
      "Data columns (total 7 columns):\n",
      " #   Column         Non-Null Count  Dtype         \n",
      "---  ------         --------------  -----         \n",
      " 0   review_id      10000 non-null  object        \n",
      " 1   user_id        10000 non-null  object        \n",
      " 2   business_id    10000 non-null  object        \n",
      " 3   review_stars   10000 non-null  int64         \n",
      " 4   review_useful  10000 non-null  int64         \n",
      " 5   text           10000 non-null  object        \n",
      " 6   date           10000 non-null  datetime64[ns]\n",
      "dtypes: datetime64[ns](1), int64(2), object(4)\n",
      "memory usage: 547.0+ KB\n"
     ]
    }
   ],
   "source": [
    "df_test.info()"
   ]
  },
  {
   "cell_type": "code",
   "execution_count": 18,
   "id": "1b3891ec",
   "metadata": {},
   "outputs": [],
   "source": [
    "# 드랍할 컬럼명\n",
    "review_text = \"text\"\n",
    "review_useful = \"review_useful\"\n",
    "review_date = \"date\""
   ]
  },
  {
   "cell_type": "code",
   "execution_count": 19,
   "id": "687af151",
   "metadata": {},
   "outputs": [],
   "source": [
    "chunk_modified = df_test.drop(columns=[review_useful, review_date], errors=\"ignore\")"
   ]
  },
  {
   "cell_type": "code",
   "execution_count": 20,
   "id": "166595c0",
   "metadata": {},
   "outputs": [
    {
     "name": "stdout",
     "output_type": "stream",
     "text": [
      "<class 'pandas.core.frame.DataFrame'>\n",
      "RangeIndex: 10000 entries, 0 to 9999\n",
      "Data columns (total 5 columns):\n",
      " #   Column        Non-Null Count  Dtype \n",
      "---  ------        --------------  ----- \n",
      " 0   review_id     10000 non-null  object\n",
      " 1   user_id       10000 non-null  object\n",
      " 2   business_id   10000 non-null  object\n",
      " 3   review_stars  10000 non-null  int64 \n",
      " 4   text          10000 non-null  object\n",
      "dtypes: int64(1), object(4)\n",
      "memory usage: 390.8+ KB\n"
     ]
    }
   ],
   "source": [
    "chunk_modified.info()"
   ]
  },
  {
   "cell_type": "code",
   "execution_count": 21,
   "id": "0986ecf7",
   "metadata": {},
   "outputs": [],
   "source": [
    "output_path = \"../Dataset/states/dataset_fl_split.jsonl\""
   ]
  },
  {
   "cell_type": "code",
   "execution_count": 22,
   "id": "c965326a",
   "metadata": {},
   "outputs": [],
   "source": [
    "chunk_modified.to_json(output_path, orient=\"records\", lines=True, force_ascii=False)"
   ]
  }
 ],
 "metadata": {
  "kernelspec": {
   "display_name": ".venv",
   "language": "python",
   "name": "python3"
  },
  "language_info": {
   "codemirror_mode": {
    "name": "ipython",
    "version": 3
   },
   "file_extension": ".py",
   "mimetype": "text/x-python",
   "name": "python",
   "nbconvert_exporter": "python",
   "pygments_lexer": "ipython3",
   "version": "3.12.11"
  }
 },
 "nbformat": 4,
 "nbformat_minor": 5
}
