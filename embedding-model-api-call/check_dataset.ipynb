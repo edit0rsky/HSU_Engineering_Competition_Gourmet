{
 "cells": [
  {
   "cell_type": "markdown",
   "id": "bf6d5138",
   "metadata": {},
   "source": [
    "### 필요없는 컬럼들 제거 후 df구조 확인"
   ]
  },
  {
   "cell_type": "code",
   "execution_count": 1,
   "id": "a60dbe35",
   "metadata": {},
   "outputs": [],
   "source": [
    "import pandas as pd"
   ]
  },
  {
   "cell_type": "code",
   "execution_count": 2,
   "id": "8ef3fec1",
   "metadata": {},
   "outputs": [],
   "source": [
    "json_reader = pd.read_json(\n",
    "    \"Dataset/3states/dataset_pa_with_embeddings_vector.jsonl\",\n",
    "    lines=True,\n",
    "    chunksize=5000,\n",
    ")"
   ]
  },
  {
   "cell_type": "code",
   "execution_count": 3,
   "id": "649e7b3e",
   "metadata": {},
   "outputs": [],
   "source": [
    "df_test = next(json_reader)"
   ]
  },
  {
   "cell_type": "code",
   "execution_count": 4,
   "id": "09e62a7c",
   "metadata": {},
   "outputs": [
    {
     "name": "stdout",
     "output_type": "stream",
     "text": [
      "<class 'pandas.core.frame.DataFrame'>\n",
      "RangeIndex: 5000 entries, 0 to 4999\n",
      "Data columns (total 5 columns):\n",
      " #   Column        Non-Null Count  Dtype \n",
      "---  ------        --------------  ----- \n",
      " 0   review_id     5000 non-null   object\n",
      " 1   user_id       5000 non-null   object\n",
      " 2   business_id   5000 non-null   object\n",
      " 3   review_stars  5000 non-null   int64 \n",
      " 4   embedding     5000 non-null   object\n",
      "dtypes: int64(1), object(4)\n",
      "memory usage: 195.4+ KB\n"
     ]
    }
   ],
   "source": [
    "df_test.info()"
   ]
  }
 ],
 "metadata": {
  "kernelspec": {
   "display_name": ".venv",
   "language": "python",
   "name": "python3"
  },
  "language_info": {
   "codemirror_mode": {
    "name": "ipython",
    "version": 3
   },
   "file_extension": ".py",
   "mimetype": "text/x-python",
   "name": "python",
   "nbconvert_exporter": "python",
   "pygments_lexer": "ipython3",
   "version": "3.12.11"
  }
 },
 "nbformat": 4,
 "nbformat_minor": 5
}
