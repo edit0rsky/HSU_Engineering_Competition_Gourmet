{
 "cells": [
  {
   "cell_type": "markdown",
   "id": "f1aaf0a2",
   "metadata": {},
   "source": [
    "### 임베딩 후 오류 체크"
   ]
  },
  {
   "cell_type": "code",
   "execution_count": null,
   "id": "780bd00b",
   "metadata": {},
   "outputs": [
    {
     "name": "stdout",
     "output_type": "stream",
     "text": [
      "문제 라인: 277767\n",
      "부분 라인 내용: 6,-0.0364765301,-0.0052664685,-0.00634553,-0.0059369681,-0.0083443085,-0.0102911871,0.0129286842,-0.005525508,-0.00767921,-0.0152489068,0.0096700685,-0.0303340796,-0.011948796,-0.013911197,-0.00954942\n",
      "에러 위치: 1 Extra data\n"
     ]
    }
   ],
   "source": [
    "import json\n",
    "\n",
    "path = \"Dataset/3states/dataset_la_with_embeddings.jsonl\"\n",
    "with open(path, \"r\", encoding=\"utf-8\") as f:\n",
    "    for ln, line in enumerate(f, 1):\n",
    "        line = line.rstrip(\"\\n\")\n",
    "        try:\n",
    "            json.loads(line)\n",
    "        except json.JSONDecodeError as e:\n",
    "            print(\"문제 라인:\", ln)\n",
    "            print(\"부분 라인 내용:\", line[:200])\n",
    "            print(\"에러 위치:\", e.pos, e.msg)\n",
    "            break"
   ]
  }
 ],
 "metadata": {
  "kernelspec": {
   "display_name": ".venv",
   "language": "python",
   "name": "python3"
  },
  "language_info": {
   "codemirror_mode": {
    "name": "ipython",
    "version": 3
   },
   "file_extension": ".py",
   "mimetype": "text/x-python",
   "name": "python",
   "nbconvert_exporter": "python",
   "pygments_lexer": "ipython3",
   "version": "3.12.11"
  }
 },
 "nbformat": 4,
 "nbformat_minor": 5
}
